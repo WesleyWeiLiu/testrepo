{
  "metadata": {
    "language_info": {
      "codemirror_mode": {
        "name": "python",
        "version": 3
      },
      "file_extension": ".py",
      "mimetype": "text/x-python",
      "name": "python",
      "nbconvert_exporter": "python",
      "pygments_lexer": "ipython3",
      "version": "3.8"
    },
    "kernelspec": {
      "name": "python",
      "display_name": "Python (Pyodide)",
      "language": "python"
    }
  },
  "nbformat_minor": 4,
  "nbformat": 4,
  "cells": [
    {
      "cell_type": "markdown",
      "source": "# Data Science Tools and Ecosystem\n\nIn this notebook, Data Science Tools and Ecosystem are summarized.\n\n**Objectives:**\n\nSome of the commonly used libraries used by Data Scientists include:\n- NumPy\n- Pandas\n- TensorFlow\n\nSome of the popular languages that Data Scientists use are:\n1. Python\n1. R\n1. SQL\n\n|Data Science Tools| \n|----------|\n|Jupyter Notebook|\n|RStudio|\n|Spyder|\n\n### Below are a few examples of evaluating arithmetic expressions in Python\n\n## Author\nWesley",
      "metadata": {}
    },
    {
      "cell_type": "code",
      "source": "#This a simple arithmetic expression to mutiply then add integers\nprint((3*4)+5)",
      "metadata": {
        "trusted": true
      },
      "execution_count": 14,
      "outputs": [
        {
          "name": "stdout",
          "text": "17\n",
          "output_type": "stream"
        }
      ]
    },
    {
      "cell_type": "code",
      "source": "#This will convert 200 minutes to hours by diving by 60\nminutes = 200\nhours = minutes / 60\nprint(hours)",
      "metadata": {
        "trusted": true
      },
      "execution_count": 17,
      "outputs": [
        {
          "name": "stdout",
          "text": "3.3333333333333335\n",
          "output_type": "stream"
        }
      ]
    },
    {
      "cell_type": "code",
      "source": "",
      "metadata": {},
      "execution_count": null,
      "outputs": []
    }
  ]
}